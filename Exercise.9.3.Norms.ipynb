{
 "cells": [
  {
   "cell_type": "code",
   "execution_count": null,
   "id": "af8bbf0f-7e1f-4118-a93b-f0ebe30e4e40",
   "metadata": {},
   "outputs": [],
   "source": [
    "import random\n",
    "from scipy.linalg import toeplitz\n",
    "import numpy as np\n",
    "x = 200\n",
    "y = 500\n",
    "A = np.random.normal(size=(x,y))\n",
    "B = toeplitz(np.random.random((y,)), np.random.random((y,)))\n",
    "print(np.linalg.norm(A,ord))\n",
    "print(np.linalg.norm(Z, np.inf))\n",
    "x, v = np.linalg.eig(Z)\n",
    "print(x.max())\n",
    "print(x.min())"
   ]
  }
 ],
 "metadata": {
  "kernelspec": {
   "display_name": "Python 3 (ipykernel)",
   "language": "python",
   "name": "python3"
  },
  "language_info": {
   "codemirror_mode": {
    "name": "ipython",
    "version": 3
   },
   "file_extension": ".py",
   "mimetype": "text/x-python",
   "name": "python",
   "nbconvert_exporter": "python",
   "pygments_lexer": "ipython3",
   "version": "3.10.2"
  }
 },
 "nbformat": 4,
 "nbformat_minor": 5
}
