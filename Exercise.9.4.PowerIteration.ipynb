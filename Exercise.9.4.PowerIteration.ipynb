{
 "cells": [
  {
   "cell_type": "code",
   "execution_count": null,
   "id": "57e1d478-0b98-4067-a4d9-9e05d939d0eb",
   "metadata": {},
   "outputs": [],
   "source": [
    "import numpy as np\n",
    "n = 5\n",
    "value = np.random.randint(0, 10, (n, n))\n",
    "def iteration(value):\n",
    "    t = 0\n",
    "    b = np.random.randint(value.shape[1])\n",
    "    while True:\n",
    "        b1 = np.dot(value, b)\n",
    "        norm = np.linalg.norm(b1)\n",
    "        b = b1/norm\n",
    "        norm2 = np.linalg.norm(b)\n",
    "        if abs(norm - norm2)/norm <= 0.00001:\n",
    "            break\n",
    "        t += 1\n",
    "    print('time is : ', t)\n",
    "    print(b)\n",
    "\n",
    "iteration(value)"
   ]
  },
  {
   "cell_type": "code",
   "execution_count": null,
   "id": "0c907af7-d603-4adc-91d1-9593a3e483c7",
   "metadata": {},
   "outputs": [],
   "source": []
  }
 ],
 "metadata": {
  "kernelspec": {
   "display_name": "Python 3 (ipykernel)",
   "language": "python",
   "name": "python3"
  },
  "language_info": {
   "codemirror_mode": {
    "name": "ipython",
    "version": 3
   },
   "file_extension": ".py",
   "mimetype": "text/x-python",
   "name": "python",
   "nbconvert_exporter": "python",
   "pygments_lexer": "ipython3",
   "version": "3.10.2"
  }
 },
 "nbformat": 4,
 "nbformat_minor": 5
}
