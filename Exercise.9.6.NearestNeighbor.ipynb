{
 "cells": [
  {
   "cell_type": "code",
   "execution_count": null,
   "id": "1ef63e8c-9ece-48a7-a6be-4e344c1161f6",
   "metadata": {},
   "outputs": [],
   "source": [
    "import numpy as np\n",
    "A = np.random.randint(0, 10, 10)\n",
    "print(A,len(A))\n",
    "print(A)\n",
    "value = 10\n",
    "B = [abs(i - value) for i in A]\n",
    "print(B)\n",
    "print('number is :', A[np.argmin(B)])"
   ]
  }
 ],
 "metadata": {
  "kernelspec": {
   "display_name": "Python 3 (ipykernel)",
   "language": "python",
   "name": "python3"
  },
  "language_info": {
   "codemirror_mode": {
    "name": "ipython",
    "version": 3
   },
   "file_extension": ".py",
   "mimetype": "text/x-python",
   "name": "python",
   "nbconvert_exporter": "python",
   "pygments_lexer": "ipython3",
   "version": "3.10.2"
  }
 },
 "nbformat": 4,
 "nbformat_minor": 5
}
