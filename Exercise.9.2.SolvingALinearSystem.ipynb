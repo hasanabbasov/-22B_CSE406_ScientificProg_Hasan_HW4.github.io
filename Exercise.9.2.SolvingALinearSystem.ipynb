{
 "cells": [
  {
   "cell_type": "code",
   "execution_count": null,
   "id": "38794b6b-f770-45e2-ac44-4d24472851fa",
   "metadata": {},
   "outputs": [],
   "source": [
    "import numpy as np\n",
    "import scipy.linalg as lp\n",
    "n=200\n",
    "m=500\n",
    "A=np.random.normal(size(n,m))\n",
    "B=lp.toeplitz(list(range(0,m)))\n",
    "b=np.random.normal(size=m)\n",
    "print(np.linalg.solve(B,b))"
   ]
  },
  {
   "cell_type": "code",
   "execution_count": null,
   "id": "6745c050-aed0-41ac-a202-6961b5f69f78",
   "metadata": {},
   "outputs": [],
   "source": []
  }
 ],
 "metadata": {
  "kernelspec": {
   "display_name": "Python 3 (ipykernel)",
   "language": "python",
   "name": "python3"
  },
  "language_info": {
   "codemirror_mode": {
    "name": "ipython",
    "version": 3
   },
   "file_extension": ".py",
   "mimetype": "text/x-python",
   "name": "python",
   "nbconvert_exporter": "python",
   "pygments_lexer": "ipython3",
   "version": "3.10.2"
  }
 },
 "nbformat": 4,
 "nbformat_minor": 5
}
