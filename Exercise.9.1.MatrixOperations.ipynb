{
 "cells": [
  {
   "cell_type": "code",
   "execution_count": 3,
   "id": "2a889595-2ca8-4658-992c-56c02b5ec76b",
   "metadata": {},
   "outputs": [
    {
     "ename": "SyntaxError",
     "evalue": "invalid syntax (2067820907.py, line 1)",
     "output_type": "error",
     "traceback": [
      "\u001b[1;36m  Input \u001b[1;32mIn [3]\u001b[1;36m\u001b[0m\n\u001b[1;33m    code.py file\u001b[0m\n\u001b[1;37m            ^\u001b[0m\n\u001b[1;31mSyntaxError\u001b[0m\u001b[1;31m:\u001b[0m invalid syntax\n"
     ]
    }
   ],
   "source": [
    "import numpy as np\n",
    "import random\n",
    "import scipy\n",
    "from scipy.linalg import toeplitz\n",
    "A = np.random.randint(0, 10, (200,500))\n",
    "c = np.random.randint(0, 10, (500, 1))\n",
    "r = np.random.randint(0, 10, (1, 500))\n",
    "B = toeplitz(c, r)\n",
    "print('Matrix A : ', A)\n",
    "print('Matrix B : ', B)\n",
    "print(\"Matrix A + A : \" ,A + A)\n",
    "print(\"Matrix AA> : \",np.dot(A, A.T))\n",
    "print(\"Matrix A>A : \",np.dot(A.T, A))\n",
    "print(\"Matrix AB : \",np.dot(A,B))\n",
    "def total(A, B, l_value):\n",
    "    return np.dot(A, B-l_value* np.ones(dtype=int, shape = B.shape))"
   ]
  },
  {
   "cell_type": "code",
   "execution_count": null,
   "id": "e60db550-e094-40bd-bd55-23c315c7cf05",
   "metadata": {},
   "outputs": [],
   "source": []
  }
 ],
 "metadata": {
  "kernelspec": {
   "display_name": "Python 3 (ipykernel)",
   "language": "python",
   "name": "python3"
  },
  "language_info": {
   "codemirror_mode": {
    "name": "ipython",
    "version": 3
   },
   "file_extension": ".py",
   "mimetype": "text/x-python",
   "name": "python",
   "nbconvert_exporter": "python",
   "pygments_lexer": "ipython3",
   "version": "3.10.2"
  }
 },
 "nbformat": 4,
 "nbformat_minor": 5
}
